{
  "nbformat": 4,
  "nbformat_minor": 0,
  "metadata": {
    "colab": {
      "provenance": []
    },
    "kernelspec": {
      "name": "python3",
      "display_name": "Python 3"
    },
    "language_info": {
      "name": "python"
    }
  },
  "cells": [
    {
      "cell_type": "markdown",
      "source": [
        "# 01) Execute os passos a seguir:<br>\n",
        "a) Crie uma lista de filmes contendo uma única tupla. A tupla deve conter o título do filme, o nome do diretor, o ano de lançamento do filme e o orçamento do filme.<br>\n",
        "b) Use a função input para coletar informações sobre outros filmes. Você precisa de um título, nome do diretor, ano de lançamento e orçamento. Crie uma nova tupla a partir dos valores que você reuniu usando a entrada. Certifique-se de que eles estão na mesma ordem que a tupla que você escreveu na lista de filmes.<br>\n",
        "c) Imprima o nome do filme e o ano de lançamento, acessando sua nova tupla de filme.<br>\n",
        "d) Adicione a nova tupla de filme à coleção (lista) de filmes usando append.<br>\n",
        "e) Imprima ambos os filmes da coleção (lista) de filmes.<br>\n",
        "f) Remova o primeiro filme da coleção (lista). Use o método que desejar<br>"
      ],
      "metadata": {
        "id": "2EHbRa04_AMm"
      }
    },
    {
      "cell_type": "code",
      "execution_count": 2,
      "metadata": {
        "colab": {
          "base_uri": "https://localhost:8080/"
        },
        "id": "06AN7sNp-k0F",
        "outputId": "f12ac3e0-06f2-4b28-f13f-e9795ed2a7d0"
      },
      "outputs": [
        {
          "output_type": "stream",
          "name": "stdout",
          "text": [
            "Digite o título do filme: Matrix\n",
            "Digite o nome do diretor: Thiago Freitas\n",
            "Digite o ano de lançamento: 1990\n",
            "Digite o orçamento do filme: 3000\n",
            "Filme: Matrix, Ano de lançamento: 1990\n",
            "Filmes na coleção:\n",
            "('Inception', 'Christopher Nolan', 2010, 160000000)\n",
            "('Matrix', 'Thiago Freitas', 1990, 3000.0)\n",
            "Coleção de filmes após remover o primeiro:\n",
            "('Matrix', 'Thiago Freitas', 1990, 3000.0)\n"
          ]
        }
      ],
      "source": [
        "# a) Criar uma lista de filmes contendo uma única tupla (título, diretor, ano de lançamento, orçamento)\n",
        "filmes = [(\"Inception\", \"Christopher Nolan\", 2010, 160000000)]\n",
        "\n",
        "# b) Usar input para coletar informações de outro filme\n",
        "titulo = input(\"Digite o título do filme: \")\n",
        "diretor = input(\"Digite o nome do diretor: \")\n",
        "ano = int(input(\"Digite o ano de lançamento: \"))\n",
        "orcamento = float(input(\"Digite o orçamento do filme: \"))\n",
        "\n",
        "# Criar uma nova tupla a partir dos valores coletados\n",
        "novo_filme = (titulo, diretor, ano, orcamento)\n",
        "\n",
        "# c) Imprimir o nome do filme e o ano de lançamento\n",
        "print(f\"Filme: {novo_filme[0]}, Ano de lançamento: {novo_filme[2]}\")\n",
        "\n",
        "# d) Adicionar a nova tupla de filme à coleção de filmes\n",
        "filmes.append(novo_filme)\n",
        "\n",
        "# e) Imprimir ambos os filmes da coleção\n",
        "print(\"Filmes na coleção:\")\n",
        "for filme in filmes:\n",
        "    print(filme)\n",
        "\n",
        "# f) Remover o primeiro filme da coleção\n",
        "filmes.pop(0)\n",
        "\n",
        "# Exibir a coleção de filmes atualizada após a remoção\n",
        "print(\"Coleção de filmes após remover o primeiro:\")\n",
        "for filme in filmes:\n",
        "    print(filme)\n"
      ]
    },
    {
      "cell_type": "markdown",
      "source": [
        "02) Leia uma lista de números, escreva um programa Python para criar uma lista de tuplas tendo o primeiro elemento como o número e o segundo elemento como o cubo do número.<br>\n",
        "Entrada:\n",
        "lista = [1, 2, 3]<br>\n",
        "Resultado: [(1, 1), (2, 8), (3, 27)]<br>\n"
      ],
      "metadata": {
        "id": "8FZZBBr4A472"
      }
    },
    {
      "cell_type": "code",
      "source": [
        "# Lista de números de exemplo\n",
        "numeros = [1, 2, 3]\n",
        "\n",
        "# Criando a lista de tuplas, onde o segundo elemento de cada tupla é o cubo do primeiro\n",
        "resultado = [(num, num**3) for num in numeros]\n",
        "\n",
        "# Imprimir o resultado\n",
        "print(resultado)"
      ],
      "metadata": {
        "id": "cHGeuloN_TB9"
      },
      "execution_count": null,
      "outputs": []
    },
    {
      "cell_type": "markdown",
      "source": [
        "03) Leia duas listas. Escreva um programa para encontrar elementos comuns nas duas listas usando conjuntos (set).<br>\n",
        "Entrada:<br>\n",
        "lst1 = [1, 2, 3, 4, 5, 6, 7]<br>\n",
        "lst2 = [6, 7, 8, 9, 10, 11]<br>\n",
        "Resultado: [6, 7]<br>\n",
        "Dica: set(list)<br>"
      ],
      "metadata": {
        "id": "ifxdF_E6BETd"
      }
    },
    {
      "cell_type": "code",
      "source": [
        "# Solicitar ao usuário para digitar duas listas\n",
        "lst1 = input(\"Digite os elementos da primeira lista separados por espaço: \").split()\n",
        "lst2 = input(\"Digite os elementos da segunda lista separados por espaço: \").split()\n",
        "\n",
        "# Convertendo os elementos para inteiros\n",
        "lst1 = [int(i) for i in lst1]\n",
        "lst2 = [int(i) for i in lst2]\n",
        "\n",
        "# Encontrando os elementos comuns utilizando conjuntos (set)\n",
        "elementos_comuns = list(set(lst1) & set(lst2))\n",
        "\n",
        "# Exibir os elementos comuns\n",
        "print(f\"Elementos comuns: {elementos_comuns}\")\n"
      ],
      "metadata": {
        "id": "vCDTwP0YBdwR"
      },
      "execution_count": null,
      "outputs": []
    },
    {
      "cell_type": "markdown",
      "source": [
        "04) Leia uma frase ou palavra e conte o número de vogais presentes usando conjuntos (set).<br>\n",
        "Entrada: “Universidade Paulista”<br>\n",
        "Resultado: Nro vogais: 10<br>\n"
      ],
      "metadata": {
        "id": "8y0JxkB_Bg8l"
      }
    },
    {
      "cell_type": "code",
      "source": [
        "# Conjunto de vogais\n",
        "vogais = set(\"aeiouAEIOU\")\n",
        "\n",
        "# Solicitar ao usuário para digitar uma frase\n",
        "frase = input(\"Digite uma frase: \")\n",
        "\n",
        "# Contando as vogais presentes na frase\n",
        "nro_vogais = sum(1 for char in frase if char in vogais)\n",
        "\n",
        "# Exibir o número de vogais\n",
        "print(f\"Nro de vogais: {nro_vogais}\")\n",
        "\n"
      ],
      "metadata": {
        "id": "pSkFgRSxB8MF"
      },
      "execution_count": null,
      "outputs": []
    },
    {
      "cell_type": "markdown",
      "source": [
        "05) Leia duas listas que são cópias uma da outra, exceto por um elemento, ou seja, um elemento de uma das lista não está presente na outra lista. Mostre o elemento ausente utilizando conjuntos (set).<br>\n",
        "Entrada:<br>\n",
        "lst1 = [1, 2, 3, 4, 5, 6, 7]<br>\n",
        "lst2 = [1, 2, 3, 4, 5, 6]<br>\n",
        "Resultado: [7]<br>\n",
        "Dica: set(list)<br>"
      ],
      "metadata": {
        "id": "DV0uNvDjCchV"
      }
    },
    {
      "cell_type": "code",
      "source": [
        "# Listas de exemplo\n",
        "lst1 = [1, 2, 3, 4, 5, 6, 7]\n",
        "lst2 = [1, 2, 3, 4, 5, 6]\n",
        "\n",
        "# Encontrando o elemento ausente usando a diferença entre os conjuntos\n",
        "elemento_ausente = list(set(lst1) - set(lst2)) + list(set(lst2) - set(lst1))\n",
        "\n",
        "# Exibir o elemento ausente\n",
        "print(f\"Elemento ausente: {elemento_ausente}\")\n"
      ],
      "metadata": {
        "id": "oGgO_NA6Cc92"
      },
      "execution_count": null,
      "outputs": []
    }
  ]
}