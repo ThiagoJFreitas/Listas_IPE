{
  "nbformat": 4,
  "nbformat_minor": 0,
  "metadata": {
    "colab": {
      "provenance": []
    },
    "kernelspec": {
      "name": "python3",
      "display_name": "Python 3"
    },
    "language_info": {
      "name": "python"
    }
  },
  "cells": [
    {
      "cell_type": "markdown",
      "source": [
        "### Lista IPE - Funções - Prof. Thiago Freitas"
      ],
      "metadata": {
        "id": "zl9v61Zdl5zK"
      }
    },
    {
      "cell_type": "markdown",
      "source": [
        "**01) - Escreva uma função que receba um argumento. A função retorna ‘P’, se seu argumento for positivo, e ‘N’, se seu argumento for zero ou negativo.**"
      ],
      "metadata": {
        "id": "eFSvfh1ql_7p"
      }
    },
    {
      "cell_type": "code",
      "execution_count": 1,
      "metadata": {
        "colab": {
          "base_uri": "https://localhost:8080/"
        },
        "id": "8yZekjAol4zd",
        "outputId": "f4b8ed71-89c9-4ab1-8277-4ba419dd2bed"
      },
      "outputs": [
        {
          "output_type": "stream",
          "name": "stdout",
          "text": [
            "P\n",
            "N\n",
            "N\n"
          ]
        }
      ],
      "source": [
        "def verifica_numero(numero):\n",
        "    if numero > 0:\n",
        "        return 'P'\n",
        "    else:\n",
        "        return 'N'\n",
        "\n",
        "# Exemplo de uso\n",
        "print(verifica_numero(10))  # Saída: 'P'\n",
        "print(verifica_numero(-5))  # Saída: 'N'\n",
        "print(verifica_numero(0))   # Saída: 'N'\n"
      ]
    },
    {
      "cell_type": "markdown",
      "source": [
        "**02) Defina função media(), que aceita dois números e retorna a média dos números.<br>\n",
        "---->media(2, 3.5)<br>\n",
        "2.75**\n"
      ],
      "metadata": {
        "id": "nEFfUSLXmZix"
      }
    },
    {
      "cell_type": "code",
      "source": [
        "def media(a, b):\n",
        "    return (a + b) / 2\n",
        "\n",
        "# Exemplo de uso\n",
        "resultado = media(2, 3.5)\n",
        "print(resultado)  # Saída: 2.75\n"
      ],
      "metadata": {
        "colab": {
          "base_uri": "https://localhost:8080/"
        },
        "id": "yJN2sVz0m7QZ",
        "outputId": "f0f3987c-d94f-4e77-ad08-edd6266c97a7"
      },
      "execution_count": 2,
      "outputs": [
        {
          "output_type": "stream",
          "name": "stdout",
          "text": [
            "2.75\n"
          ]
        }
      ]
    },
    {
      "cell_type": "markdown",
      "source": [
        "03) Escreva uma função que converta a temperatura de Fahrenheit para Celsius.<br>\n",
        "Obs: C=(F - 32)/1,8\n",
        "\n"
      ],
      "metadata": {
        "id": "vIY82CGhnGBt"
      }
    },
    {
      "cell_type": "code",
      "source": [
        "def fahrenheit_para_celsius(f):\n",
        "    c = (f - 32) / 1.8\n",
        "    return c\n",
        "\n",
        "# Exemplo de uso\n",
        "resultado = fahrenheit_para_celsius(98.6)\n",
        "print(f\"{resultado:.2f}°C\")  # Saída: 37.00°C\n"
      ],
      "metadata": {
        "id": "GoBxe6VUpVoi"
      },
      "execution_count": null,
      "outputs": []
    },
    {
      "cell_type": "markdown",
      "source": [
        "04) Escreva uma função que receba como argumento o ano e verifique se o ano é bissexto. Um ano é bissexto se for divisível por 4, mas não pro 100. Um ano também é bissexto se for divisível\n",
        "por 400.\n"
      ],
      "metadata": {
        "id": "UFse4Y-mn526"
      }
    },
    {
      "cell_type": "code",
      "source": [
        "def verifica_bissexto(ano):\n",
        "    if (ano % 4 == 0 and ano % 100 != 0) or (ano % 400 == 0):\n",
        "        return True\n",
        "    else:\n",
        "        return False\n",
        "\n",
        "# Exemplo de uso\n",
        "ano = 2024\n",
        "if verifica_bissexto(ano):\n",
        "    print(f\"O ano {ano} é bissexto.\")\n",
        "else:\n",
        "    print(f\"O ano {ano} não é bissexto.\")\n"
      ],
      "metadata": {
        "id": "b5eCriscoAJx"
      },
      "execution_count": null,
      "outputs": []
    },
    {
      "cell_type": "markdown",
      "source": [
        "\n",
        "05) Construa uma função que receba uma data no formato DD/MM/AAAA e devolva uma no formato D de mesPorExtenso de AAAA.\n",
        "\n"
      ],
      "metadata": {
        "id": "k1dNkiNdoAma"
      }
    },
    {
      "cell_type": "code",
      "source": [
        "def data_por_extenso(data):\n",
        "    meses = ['janeiro', 'fevereiro', 'março', 'abril', 'maio', 'junho',\n",
        "             'julho', 'agosto', 'setembro', 'outubro', 'novembro', 'dezembro']\n",
        "\n",
        "    # Dividir a data recebida no formato DD/MM/AAAA\n",
        "    dia, mes, ano = data.split('/')\n",
        "\n",
        "    # Converter o mês para o nome por extenso\n",
        "    mes_por_extenso = meses[int(mes) - 1]\n",
        "\n",
        "    # Retornar o formato desejado\n",
        "    return f\"{int(dia)} de {mes_por_extenso} de {ano}\"\n",
        "\n",
        "# Exemplo de uso\n",
        "data = \"05/10/2024\"\n",
        "resultado = data_por_extenso(data)\n",
        "print(resultado)  # Saída: \"5 de outubro de 2024\"\n"
      ],
      "metadata": {
        "colab": {
          "base_uri": "https://localhost:8080/"
        },
        "id": "zwNgn_t9oDpy",
        "outputId": "b74c3508-f0eb-448c-ee44-f3f5b093839c"
      },
      "execution_count": 4,
      "outputs": [
        {
          "output_type": "stream",
          "name": "stdout",
          "text": [
            "5 de outubro de 2024\n"
          ]
        }
      ]
    },
    {
      "cell_type": "markdown",
      "source": [
        "06) Escreva um função em Python que receba um lista com parâmetro de entrada e retorne o somatório de todos os elementos desta lista. Utilize um laço acumulador.\n",
        "\n"
      ],
      "metadata": {
        "id": "hWuGVvLtoEGq"
      }
    },
    {
      "cell_type": "code",
      "source": [
        "def somatorio_lista(lista):\n",
        "    soma = 0\n",
        "    for elemento in lista:\n",
        "        soma += elemento\n",
        "    return soma\n",
        "\n",
        "# Exemplo de uso\n",
        "numeros = [1, 2, 3, 4, 5]\n",
        "resultado = somatorio_lista(numeros)\n",
        "print(f\"O somatório da lista é: {resultado}\")  # Saída: O somatório da lista é: 15\n"
      ],
      "metadata": {
        "id": "5xMYNF2AoHYy"
      },
      "execution_count": null,
      "outputs": []
    },
    {
      "cell_type": "markdown",
      "source": [
        "07) Escreva uma função que receba uma lista de números armazenados em ordem crescente e um valor de limiar. Exiba uma lista cujos elementos são maiores ou iguais ao limiar e outra cujos elementos são menores que o limiar.<br>\n",
        "Exemplo:<br>\n",
        "lista inicial=[1,2,4,5,6,8,12,13,14,15,16,18,20,24,26]<br>\n",
        "limiar=13<br>\n",
        "Lista1 ➔ [13,14,15,16,18,20,24,26] <br>Lista2 ➔ [1,2,4,5,6,8,12]<br>\n",
        "\n"
      ],
      "metadata": {
        "id": "gUXRlkXxoH7y"
      }
    },
    {
      "cell_type": "code",
      "source": [
        "def dividir_lista(lista, limiar):\n",
        "    lista_maiores = []\n",
        "    lista_menores = []\n",
        "\n",
        "    for numero in lista:\n",
        "        if numero >= limiar:\n",
        "            lista_maiores.append(numero)\n",
        "        else:\n",
        "            lista_menores.append(numero)\n",
        "\n",
        "    return lista_maiores, lista_menores\n",
        "\n",
        "# Exemplo de uso\n",
        "lista_inicial = [1, 2, 4, 5, 6, 8, 12, 13, 14, 15, 16, 18, 20, 24, 26]\n",
        "limiar = 13\n",
        "lista1, lista2 = dividir_lista(lista_inicial, limiar)\n",
        "\n",
        "print(f\"Lista1 ➔ {lista1}\")  # Saída: Lista1 ➔ [13, 14, 15, 16, 18, 20, 24, 26]\n",
        "print(f\"Lista2 ➔ {lista2}\")  # Saída: Lista2 ➔ [1, 2, 4, 5, 6, 8, 12]\n"
      ],
      "metadata": {
        "colab": {
          "base_uri": "https://localhost:8080/"
        },
        "id": "l9Y_LZmgoLEp",
        "outputId": "95112894-8ed5-47f4-adf3-d7bde9512462"
      },
      "execution_count": 5,
      "outputs": [
        {
          "output_type": "stream",
          "name": "stdout",
          "text": [
            "Lista1 ➔ [13, 14, 15, 16, 18, 20, 24, 26]\n",
            "Lista2 ➔ [1, 2, 4, 5, 6, 8, 12]\n"
          ]
        }
      ]
    },
    {
      "cell_type": "markdown",
      "source": [
        "08) Desenvolver um programa de computador que simule as operações básicas de uma\n",
        "calculadora que opere com a entrada de dois valores após a escolha da operação a ser executada.<BR>\n",
        "*  O programa deve ler dois valores numéricos e depois a operação desejada (‘+’, ‘-’, ‘*’ e ‘/’).\n",
        "*  Após a execução da operação, o programa deve apresentar o resultado.\n",
        "*  Você deve criar uma função para cada operação e um programa principal para ler os valores e operação.\n",
        "*  O usuário poderá repetir quantos cálculos ele quiser (utilize as estruturas de repetição)."
      ],
      "metadata": {
        "id": "t-pZN0pmoLmx"
      }
    },
    {
      "cell_type": "code",
      "source": [
        "def soma(a, b):\n",
        "    return a + b\n",
        "\n",
        "def subtracao(a, b):\n",
        "    return a - b\n",
        "\n",
        "def multiplicacao(a, b):\n",
        "    return a * b\n",
        "\n",
        "def divisao(a, b):\n",
        "    if b != 0:\n",
        "        return a / b\n",
        "    else:\n",
        "        return \"Erro: Divisão por zero\"\n",
        "\n",
        "def calculadora():\n",
        "    while True:\n",
        "        # Leitura dos valores\n",
        "        a = float(input(\"Digite o primeiro número: \"))\n",
        "        b = float(input(\"Digite o segundo número: \"))\n",
        "\n",
        "        # Leitura da operação\n",
        "        operacao = input(\"Digite a operação desejada ('+', '-', '*', '/'): \")\n",
        "\n",
        "        # Execução da operação\n",
        "        if operacao == '+':\n",
        "            print(f\"Resultado: {soma(a, b)}\")\n",
        "        elif operacao == '-':\n",
        "            print(f\"Resultado: {subtracao(a, b)}\")\n",
        "        elif operacao == '*':\n",
        "            print(f\"Resultado: {multiplicacao(a, b)}\")\n",
        "        elif operacao == '/':\n",
        "            print(f\"Resultado: {divisao(a, b)}\")\n",
        "        else:\n",
        "            print(\"Operação inválida.\")\n",
        "\n",
        "        # Verifica se o usuário quer continuar\n",
        "        continuar = input(\"Deseja realizar outro cálculo? (s/n): \")\n",
        "        if continuar.lower() != 's':\n",
        "            break\n",
        "\n",
        "# Programa principal\n",
        "calculadora()\n",
        "\n",
        "\n"
      ],
      "metadata": {
        "id": "H5LmSn7KoQ8S"
      },
      "execution_count": null,
      "outputs": []
    },
    {
      "cell_type": "markdown",
      "source": [
        "09) Implemente a função med(), que aceita como entrada uma lista que contém listas denúmeros. Cada lista de números representa as notas que determinado aluno recebeu para um curso. Por exemplo, aqui está uma lista de entrada para uma classe de quatro alunos:<br><br>\n",
        "[[95, 92, 86, 87], [66, 54], [89, 72, 100], [33, 0, 0]]<br><br>\n",
        "A função med() deverá exibir, uma por linha, a nota média de cada aluno. Você pode considerar que cada lista de notas não é vazia, mas não deve considerar que todo aluno tem o mesmo número de notas.<br>\n",
        "--> med([[95, 92, 86, 87], [66, 54], [89, 72, 100], [33, 0, 0]])<br>\n",
        "90.0<br>\n",
        "60.0<br>\n",
        "87.0<br>\n",
        "11.0<br>\n",
        "\n"
      ],
      "metadata": {
        "id": "jxQqndcwoVfZ"
      }
    },
    {
      "cell_type": "code",
      "source": [],
      "metadata": {
        "id": "kz4mMrDUoXyx"
      },
      "execution_count": null,
      "outputs": []
    },
    {
      "cell_type": "markdown",
      "source": [
        "\n",
        "10) Implemente a função pixels(), que aceite como entrada uma lista bidimensional de entradas de inteiros não negativos (representando os valores de pixels de uma imagem) e retorne o número de entradas que são positivas (ou seja, o número de pixels que não são escuros = 0).\n",
        "Sua função deverá funcionar com listas bidimensionais de qualquer tamanho.<br>\n",
        "--> l = [[0, 156, 0, 0], [34, 0, 0, 0], [23, 123, 0, 34]]<br>\n",
        "--> pixels(l)<br>\n",
        "5<br>\n",
        "--> l = [[123, 56, 255], [34, 0, 0], [23, 123, 0], [3, 0, 0]]<br>\n",
        "--> pixels(l)<br>\n",
        "7"
      ],
      "metadata": {
        "id": "NXkrXp6GoYNB"
      }
    },
    {
      "cell_type": "code",
      "source": [],
      "metadata": {
        "id": "r8DkNy9nodaC"
      },
      "execution_count": null,
      "outputs": []
    }
  ]
}