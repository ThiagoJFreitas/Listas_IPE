{
  "nbformat": 4,
  "nbformat_minor": 0,
  "metadata": {
    "colab": {
      "provenance": []
    },
    "kernelspec": {
      "name": "python3",
      "display_name": "Python 3"
    },
    "language_info": {
      "name": "python"
    }
  },
  "cells": [
    {
      "cell_type": "markdown",
      "source": [
        "# **Lista IPE - Dicionário**"
      ],
      "metadata": {
        "id": "AXRlgjXa9TW3"
      }
    },
    {
      "cell_type": "markdown",
      "source": [
        "Escreva um programa que aceite como entrada o nome completo de um presidente dos\n",
        "Estados Unidos (como uma string) e retorne o estado em que ele nasceu. Você deverá usar esse dicionário para armazenar o estado em que cada presidente recente nasceu:<br><br>\n",
        "{'Barack Hussein Obama II':'Hawaii',<br>\n",
        "'George Walker Bush':'Connecticut',<br>\n",
        "'William Jefferson Clinton':'Arkansas',<br>\n",
        "'George Herbert Walker Bush':'Massachussetts',<br>\n",
        "'Ronald Wilson Reagan':'Illinois',<br>\n",
        "'James Earl Carter, Jr':'Georgia'}<br>"
      ],
      "metadata": {
        "id": "HypJxth19HH3"
      }
    },
    {
      "cell_type": "code",
      "execution_count": 1,
      "metadata": {
        "colab": {
          "base_uri": "https://localhost:8080/"
        },
        "id": "Ac8m9ICj8hbN",
        "outputId": "ffd889af-9c28-451d-c15f-ac744d2a72c9"
      },
      "outputs": [
        {
          "output_type": "stream",
          "name": "stdout",
          "text": [
            "Hawaii\n"
          ]
        }
      ],
      "source": [
        "# Dicionário com os presidentes e seus respectivos estados de nascimento\n",
        "presidentes = {\n",
        "    'Barack Hussein Obama II': 'Hawaii',\n",
        "    'George Walker Bush': 'Connecticut',\n",
        "    'William Jefferson Clinton': 'Arkansas',\n",
        "    'George Herbert Walker Bush': 'Massachussetts',\n",
        "    'Ronald Wilson Reagan': 'Illinois',\n",
        "    'James Earl Carter, Jr': 'Georgia'\n",
        "}\n",
        "\n",
        "# Função para buscar o estado de nascimento com base no nome fornecido\n",
        "def buscar_estado(nome_presidente):\n",
        "    return presidentes.get(nome_presidente, \"Presidente não encontrado\")\n",
        "\n",
        "# Exemplo de uso:\n",
        "nome_input = 'Barack Hussein Obama II'\n",
        "estado = buscar_estado(nome_input)\n",
        "print(estado)\n"
      ]
    },
    {
      "cell_type": "markdown",
      "source": [
        "### 02) Crie uma programa que ao entrar com o número do mês, ela retorne o nome por extenso. Para isso, utilize um dicionário que funcione como uma estrutura de Decisão Multivias.\n"
      ],
      "metadata": {
        "id": "ek108es49zjm"
      }
    },
    {
      "cell_type": "code",
      "source": [
        "# Dicionário que mapeia números dos meses para seus respectivos nomes por extenso\n",
        "meses = {\n",
        "    1: 'Janeiro',\n",
        "    2: 'Fevereiro',\n",
        "    3: 'Março',\n",
        "    4: 'Abril',\n",
        "    5: 'Maio',\n",
        "    6: 'Junho',\n",
        "    7: 'Julho',\n",
        "    8: 'Agosto',\n",
        "    9: 'Setembro',\n",
        "    10: 'Outubro',\n",
        "    11: 'Novembro',\n",
        "    12: 'Dezembro'\n",
        "}\n",
        "\n",
        "# Função que retorna o nome do mês por extenso\n",
        "def obter_mes_por_extenso(numero_mes):\n",
        "    return meses.get(numero_mes, \"Mês inválido\")\n",
        "\n",
        "# Exemplo de uso:\n",
        "numero_mes_input = 5\n",
        "mes_extenso = obter_mes_por_extenso(numero_mes_input)\n",
        "print(mes_extenso)"
      ],
      "metadata": {
        "id": "s7s56vt6-Aq9"
      },
      "execution_count": null,
      "outputs": []
    }
  ]
}